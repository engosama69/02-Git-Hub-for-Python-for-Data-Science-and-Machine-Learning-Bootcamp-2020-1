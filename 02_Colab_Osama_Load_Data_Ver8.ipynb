{
  "cells": [
    {
      "cell_type": "markdown",
      "metadata": {
        "id": "view-in-github",
        "colab_type": "text"
      },
      "source": [
        "<a href=\"https://colab.research.google.com/github/engosama69/02-Git-Hub-for-Python-for-Data-Science-and-Machine-Learning-Bootcamp-2020-1/blob/master/02_Colab_Osama_Load_Data_Ver8.ipynb\" target=\"_parent\"><img src=\"https://colab.research.google.com/assets/colab-badge.svg\" alt=\"Open In Colab\"/></a>"
      ]
    },
    {
      "cell_type": "code",
      "source": [
        "#@title 0-Install Packages\n",
        "!pip install git+https://github.com/brian-the-dev/python-tradingview-ta.git\n",
        "!pip install --upgrade --no-cache-dir git+https://github.com/StreamAlpha/tvdatafeed.git\n",
        "\n",
        "from IPython.display import clear_output #Clear output Screne\n",
        "clear_output()"
      ],
      "metadata": {
        "cellView": "form",
        "id": "F3ooZglEJ_EG"
      },
      "execution_count": 1,
      "outputs": []
    },
    {
      "cell_type": "code",
      "execution_count": 2,
      "metadata": {
        "code_folding": [
          0
        ],
        "id": "zzU7k7n48RA3"
      },
      "outputs": [],
      "source": [
        "#@title 1-Technical Analysis From TradingView.com                               #\n",
        "\n",
        "from tradingview_ta import TA_Handler, Interval, Exchange\n",
        "import numpy as np\n",
        "import pandas as pd\n",
        "\n",
        "country = 'Egypt'\n",
        "if country == 'Egypt':\n",
        "    countryStudy = \"Egypt\"\n",
        "    indexStudy = \"EGX\"\n",
        "else:\n",
        "    countryStudy == \"america\"\n",
        "    indexStudy = \"NASDAQ\"\n",
        "\n",
        "tickersList = []\n",
        "name_list = []\n",
        "dfTradingView = pd.DataFrame()\n",
        "# use when you what download all tickers\n",
        "All_Tickers_List=['AALR', 'ABUK', 'ACAMD', 'ACGC', 'ACRO', 'ADCI', 'ADIB', 'ADPC', 'ADRI', 'AFDI', 'AFMC', 'AIFI', 'AIH', 'AIVC', 'AJWA',\n",
        "                  'ALCN', 'ALUM', 'AMER', 'AMES', 'AMIA', 'AMOC', 'APSW', 'ARAB', 'ARCC', 'AREH', 'ARPI', 'ARVA', 'ASCM', 'ATLC', 'ATQA',\n",
        "                  'AUTO', 'AXPH', 'BIGP', 'BINV', 'BIOC', 'BTFH', 'CAED', 'CANA', 'CCAP', 'CCRS', 'CEFM', 'CERA', 'CICH', 'CIEB', 'CIRA',\n",
        "                  'CLHO', 'COMI', 'COSG', 'CPCI', 'CSAG', 'DAPH', 'DCRC', 'DOMT', 'DSCW', 'DTPP', 'EALR', 'EASB', 'EAST', 'EBSC', 'ECAP',\n",
        "                  'EDBM', 'EDFM', 'EEII', 'EFIC', 'EFID', 'EGAL', 'EGAS', 'EGBE', 'EGCH', 'EGSA', 'EGTS', 'EGX30',\n",
        "                  'EGX70EWI', 'EHDR', 'EIUD', 'EKHO', 'ELEC', 'ELKA', 'ELNA', 'ELSH', 'ELWA', 'EMFD', 'ENGC', 'EPCO', 'EPPK', 'ESRS', 'ETEL', \n",
        "                  'ETRS', 'EXPA', 'FAIT', 'FAITA', 'FWRY', 'GDWA', 'GGCC', 'GIHD', 'GMCI', 'GOCO', 'GSSC', 'HDBK', 'HELI', 'HRHO', 'ICFC',\n",
        "                  'ICID', 'ICMI', 'IDHC', 'IDRE', 'IEEC', 'IFAP', 'INEG', 'INFI', 'IRAX', 'IRON', 'ISMA', 'ISPH', 'JUFO', 'KABO', 'KRDI', \n",
        "                  'KZPC', 'LCSW', 'MAAL', 'MBSC', 'MCQE', 'MENA', 'MEPA', 'MFPC', 'MFSC', 'MHOT', 'MICH', 'MILS', 'MMAT', 'MNHD', 'MOED',\n",
        "                  'MOIL', 'MOIN', 'MOSC', 'MPCI', 'MPCO', 'MPRC', 'MTIE', 'NAHO', 'NCCW', 'NEDA', 'NINH', 'NIPH', 'NRPD', 'OBRI', 'OCDI',\n",
        "                  'ODIN', 'OIH', 'OLFI', 'ORAS', 'ORHD', 'ORWE', 'PACH', 'PHAR', 'PHDC', 'POUL', 'PRCL', 'PRDC', 'PRMH',  'QNBA', \n",
        "                  'RACC', 'RAKT', 'RAYA', 'REAC', 'RMDA', 'ROTO', 'RREI', 'RTVC', 'RUBX', 'SAUD', 'SCEM', 'SDTI', 'SEIG', 'SIPC', 'SKPC', \n",
        "                  'SMFR', 'SNFC', 'SPIN', 'SPMD', 'SUGR', 'SVCE', 'SWDY', 'TALM', 'TANM', 'TMGH', 'TRTO', 'UASG', 'UEFM', 'UEGC', 'UNIP',\n",
        "                  'UNIT', 'WCDF', 'WKOL', 'ZEOT', 'ZMID']\n",
        "ShariaStocksList = ['AALR', 'ABUK', 'ACAMD', 'ACGC', 'ACRO', 'ADCI', 'ADIB', 'ADPC', 'ADRI', 'AFMC', 'AIFI', 'AIH', 'AJWA', 'ALCN', 'ALUM',\n",
        "                    'AMIA', 'AMOC', 'APSW', 'ARAB', 'ARCC', 'AREH', 'ARVA', 'ASCM', 'ATQA', 'AUTO', 'CCRS', 'CERA', 'CIRA', 'CLHO', 'COSG',\n",
        "                    'CSAG', 'DAPH', 'DCRC', 'DOMT', 'DSCW', 'DTPP', 'EALR', 'ECAP', 'EDBM', 'EEII', 'EFIC', 'EFID', 'EGAL', 'EGAS', 'EGCH', \n",
        "                    'EGX30', 'EGX70EWI', 'EHDR', 'EIUD', 'ELEC', 'ELKA', 'ELNA', 'ELSH', 'ELWA', 'EMFD', 'ENGC', 'EPCO', 'EPPK', 'ESRS',\n",
        "                    'ETEL', 'ETRS', 'FAIT', 'FWRY', 'GDWA', 'GGCC', 'GIHD', 'GMCI', 'GOCO', 'GSSC', 'HELI', 'ICID', 'ICMI', 'IDRE', 'IEEC',\n",
        "                    'IFAP', 'INFI', 'IRAX', 'ISMA', 'ISPH', 'JUFO', 'KABO', 'KRDI', 'KZPC', 'LCSW', 'MAAL', 'MBSC', 'MCQE', 'MENA', 'MEPA',\n",
        "                    'MFPC', 'MICH', 'MILS', 'MMAT', 'MNHD', 'MPCI', 'MPCO', 'MTIE', 'NCCW', 'NEDA', 'NRPD', 'OBRI', 'OCDI', 'OLFI', 'ORAS', \n",
        "                    'ORHD', 'ORWE', 'PACH', 'PHAR', 'PHDC', 'POUL', 'PRCL', 'PRDC', 'RACC', 'RAKT', 'RAYA', 'REAC', 'RMDA', 'RREI', 'RUBX',\n",
        "                    'SAUD', 'SKPC', 'SMFR', 'SNFC', 'SPIN', 'SPMD', 'SUGR', 'SWDY', 'TALM', 'TANM', 'TMGH', 'UASG', 'UEGC', 'UNIP', 'UNIT', \n",
        "                    'ZEOT', 'ZMID']\n",
        "NameList = ['العامة لاستصلاح', 'ابوقير للاسمدة', 'العربية للاصول', 'عربيه حليج', 'اكرومصر', 'العربية للادوية', 'أبو ظبي الأسلامي', 'اراب ديري', 'اراب للتنمية', 'مطاحن الاسكندرية', 'اطلس لاستثمار', 'ايه اي سي', 'اجواء', 'اسكندريه للحاويات', 'الالومنيوم العربية', 'الملتقي العربي', 'اسكندريه للزيوت', 'بولفارا', 'المطورون العرب القابضة', 'العربية للاسمنت', 'المجموعه المصريه', 'العربية للمحابس', 'اسيك للتعدين', 'عتاقة', 'جى بى اوتو', 'الخليجية  للاستثمار', 'ريماس', 'القاهره للإستثمار', 'مستشفي كليوباترا', 'القاهرة للزيوت', 'القناة للتوكيلات', 'التعمير والاستشارات', 'دلتا للانشاء', 'دومتى', 'دايس', 'دلتا للطباعة', 'العربية للاستصلاح', 'العز بورسلين', 'ليفت سلاب', 'العربيه الهندسية', 'المالية و الصناعية', 'ايديتا الغذائية', 'مصر للالومنيوم', 'غاز مصر', 'كيما', 'EGX30D', 'EGX70D', 'المصريين للاسكان', 'المصريين للاستثمار', 'الكابلات', 'القاهرة للاسكان', 'النصر للحاصلات', 'الشمس للاسكان', 'الوادى للإستثمار', 'إعمار مصر', 'ايكون', 'المصرية للدواجن', 'الاهرام للطباعة', 'حديد عز', 'المصرية للاتصالات', 'ايجيترانس', 'بنك فيصل - بالجنية', 'فوري', 'جدوى للتنمية الصناعية', 'الجيزةالعامة', 'الغربية الاسلامية', 'جى . أم . سى', 'جولدن كوست', 'العامة للصوامع', 'مصر الجديدة', 'العالمية للاستثمار', 'ايكمي', 'الاسماعيلية للتطوير', 'المشروعات الصناعية', 'المحاصيل الزراعيه', 'فوديكو', 'عز الدخيلة', 'الاسماعيلية للدواجن', 'ابن سينا فارما', 'جهينة', 'كابو', 'نهر الخير للتنمية والأستثمار الزراعى والخدمات البيئية', 'كفر الزيات للمبيدات', 'ليسيكو مصر', 'مرسيليا المصرية الخليجية للاستثمار العقارى', 'مصر بنى سويف للاسمنت', 'مصر للاسمنت - قنا', 'مينا للاستثمار', 'العبوات الطبية', 'موبكو', 'مصرللكيماويات', 'مطاحن شمال القاهرة', 'مرسى علم', 'مدينة نصر للاسكان', 'ممفيس للادوية', 'المنصورة للدواجن', 'ام.ام جروب', 'النصر للأعمال المدني', 'شمال الصعيد (نيوداب)', 'العقارية للبنوك', 'العبور للاستثمار', 'سوديك', 'عبور لاند', 'كونستراكشون', 'اوراسكوم للتنمية', 'النساجون الشرقيون', 'باكين', 'ايبيكو', 'بالم هيلز', 'القاهرة للدواجن', 'شيني', 'بايونيرز بروبرتيز للتنمية العمرانية', 'راية خ اتصالات', 'راكتا', 'راية القابضة', 'ريكاب', 'راميدا', 'اليكو', 'روبكس', 'بنك البركة', 'سيدى كرير', 'ايجيفرت', 'الشرقية الوطنية', 'سبينالكس', 'سبيد ميديكال', 'دلتا للسكر', 'السويدى اليكتريك', 'تعليم', 'تنمية للاستثمار العقاري', 'طلعت مصطفى', 'العربيةالمتحدة للشحن', 'الصعيد العامة', 'يونيباك', 'المتحدة للاسكان', 'الزيوت المستخلصة', 'زهراء المعادي']\n",
        "dictionary = dict(zip(ShariaStocksList, NameList))\n",
        "for ticker, name in dictionary.items():\n",
        "    if ticker == 'EGX30' or ticker == 'EGX70EWI':\n",
        "        continue\n",
        "    try:\n",
        "        tesla = TA_Handler(\n",
        "            symbol=ticker,\n",
        "            screener=countryStudy,\n",
        "            exchange=indexStudy,\n",
        "            interval=Interval.INTERVAL_1_DAY,\n",
        "        )\n",
        "        \n",
        "        d = tesla.get_analysis().summary\n",
        "        df = pd.DataFrame.from_dict(d, orient='index')\n",
        "        df = df.T  # to convert columns to rows\n",
        "        dfTradingView = pd.concat([dfTradingView, df],\n",
        "                                  axis=0,\n",
        "                                  ignore_index=True)\n",
        "        \n",
        "        tickersList.append(ticker)\n",
        "        name_list.append(name)\n",
        "        #print(tesla.get_analysis().summary)\n",
        "    except:\n",
        "        print(ticker)\n",
        "dfTradingView.insert(0, 'Ticker', tickersList)\n",
        "dfTradingView.insert(1, 'Name', name_list)\n",
        "# Tview_evaluate=[10 if i=='STRONG_BUY' else 1 if i=='BUY' else 0 if i=='NEUTRAL' else -1 if i=='SELL' else -10\n",
        "# if i=='STRONG_SELL' else 'Non' for i in dfTradingView['RECOMMENDATION']]\n",
        "dfTradingView['Tview_evaluate'] = dfTradingView['BUY']*2 + \\\n",
        "    dfTradingView['SELL']*(-1)+dfTradingView['NEUTRAL']\n",
        "dfTradingView = dfTradingView.sort_values(\n",
        "    by=['Tview_evaluate', 'BUY', 'SELL', 'NEUTRAL'],\n",
        "    ascending=[False, False, True, False])\n",
        "dfTradingView['RECOMMENDATION'] = dfTradingView['RECOMMENDATION'].str.title()\n",
        "dfTradingView.columns = map(str.capitalize, dfTradingView.columns)\n",
        "dfTradingView.index = np.arange(1,\n",
        "                                len(dfTradingView) +\n",
        "                                1)  # to make index start from 1\n",
        "dfTradingView.to_excel('/content/HistoricalData/TradingView.xlsx', index=False)"
      ]
    },
    {
      "cell_type": "code",
      "execution_count": 5,
      "metadata": {
        "code_folding": [
          0
        ],
        "id": "U0rJ08348Rr2",
        "colab": {
          "base_uri": "https://localhost:8080/"
        },
        "outputId": "237a4bd7-0070-4df8-b9df-4661f4229f4e"
      },
      "outputs": [
        {
          "output_type": "stream",
          "name": "stderr",
          "text": [
            "WARNING:tvDatafeed.main:you are using nologin method, data you access may be limited\n"
          ]
        },
        {
          "output_type": "stream",
          "name": "stdout",
          "text": [
            "           Date Ticker   Open   High    Low  Close  Volume_BTC\n",
            "0    2022-01-26   NEDA  1.162  1.170  1.133  1.146    656808.0\n",
            "1    2022-01-30   NEDA  1.148  1.183  1.101  1.118    187504.0\n",
            "2    2022-01-31   NEDA  1.148  1.158  1.117  1.158    158187.0\n",
            "3    2022-02-01   NEDA  1.148  1.183  1.148  1.179    123982.0\n",
            "4    2022-02-02   NEDA  1.148  1.230  1.148  1.204    599723.0\n",
            "..          ...    ...    ...    ...    ...    ...         ...\n",
            "239  2023-01-19   NEDA  1.881  1.920  1.841  1.869   1396569.0\n",
            "240  2023-01-22   NEDA  1.859  1.880  1.832  1.838    759673.0\n",
            "241  2023-01-23   NEDA  1.838  1.848  1.771  1.792   1445979.0\n",
            "242  2023-01-24   NEDA  1.792  1.840  1.771  1.840   1039015.0\n",
            "243  2023-01-25   NEDA  1.813  1.846  1.797  1.812    692680.0\n",
            "\n",
            "[244 rows x 7 columns]\n",
            "           Date Ticker   Open   High    Low  Close  Volume_BTC\n",
            "0    2022-01-26   ADRI  1.289  1.405  1.280  1.381   3116828.0\n",
            "1    2022-01-30   ADRI  1.381  1.490  1.313  1.386   2645156.0\n",
            "2    2022-01-31   ADRI  1.386  1.470  1.360  1.443   3605760.0\n",
            "3    2022-02-01   ADRI  1.443  1.478  1.420  1.467   3284089.0\n",
            "4    2022-02-02   ADRI  1.467  1.540  1.443  1.502   4770597.0\n",
            "..          ...    ...    ...    ...    ...    ...         ...\n",
            "239  2023-01-19   ADRI  1.475  1.590  1.328  1.552   3220050.0\n",
            "240  2023-01-22   ADRI  1.552  1.685  1.500  1.630   1736664.0\n",
            "241  2023-01-23   ADRI  1.630  1.632  1.467  1.503   3079838.0\n",
            "242  2023-01-24   ADRI  1.503  1.569  1.500  1.556   1520690.0\n",
            "243  2023-01-25   ADRI  1.533  1.580  1.450  1.528   1027628.0\n",
            "\n",
            "[244 rows x 7 columns]\n"
          ]
        }
      ],
      "source": [
        "#@title 2-Load data\n",
        "  \n",
        "from tvDatafeed import TvDatafeed,Interval\n",
        "import os\n",
        "import pandas as pd\n",
        "from google.colab import files\n",
        "# Set the destination folder\n",
        "#os.mkdir(\"/content/HistoricalData/\") # Make a directory to save created files\n",
        "\n",
        "# get credentials for tradingview\n",
        "username = 'importantSnail49432'\n",
        "password = 'Os01265065'\n",
        "#tv=TvDatafeed(username=username,password=password, chromedriver_path='D:\\Python\\Osama Projects\\chromedriver.exe')\n",
        "#tv = TvDatafeed(auto_login=False) #If auto login fails, you can try logging in manually by specifying\n",
        "tv = TvDatafeed()\n",
        "\n",
        "#for ticker in All_Tickers_List: # use when youwhat download all tickers (use n_bars=365)\n",
        "TestList=['NEDA','ADRI']\n",
        "for ticker in TestList:\n",
        "#for ticker in ShariaStocksList:\n",
        "    if ticker == 'EGX30D' or ticker == 'EGX70D':\n",
        "           continue\n",
        "    else:\n",
        "        try:\n",
        "                df=tv.get_hist(ticker,'EGX',interval=Interval.in_daily,n_bars=244)  # n_bars=365 لو عاوز تنزل بيانات سنه ونص n_bars=244 لو عاوز بيانات سنة\n",
        "                df['symbol'] = df['symbol'].replace(r'EGX:', r'', regex=True)\n",
        "                df=df.reset_index()\n",
        "                df.columns = map(str.capitalize, df.columns)\n",
        "                df.rename(columns={'Datetime': 'Date','Symbol':'Ticker','Volume': 'Volume_BTC'}, inplace=True)\n",
        "                df['Date'] = pd.to_datetime(df['Date']).dt.date\n",
        "                print(df)\n",
        "                df[10:].to_csv(f'/content/HistoricalData/{ticker}.csv', index=False)\n",
        "        except:\n",
        "                print(ticker)\n",
        "\n"
      ]
    },
    {
      "cell_type": "code",
      "execution_count": 7,
      "metadata": {
        "code_folding": [
          0
        ],
        "id": "naJqw8fXbBrK",
        "colab": {
          "base_uri": "https://localhost:8080/",
          "height": 88
        },
        "outputId": "b0d8039d-667c-4787-d94d-f020ca5e1aac"
      },
      "outputs": [
        {
          "output_type": "stream",
          "name": "stdout",
          "text": [
            "updating: content/HistoricalData/ (stored 0%)\n",
            "updating: content/HistoricalData/NEDA.csv (deflated 69%)\n",
            "updating: content/HistoricalData/ADRI.csv (deflated 68%)\n",
            "  adding: content/HistoricalData/TradingView.xlsx (deflated 5%)\n"
          ]
        },
        {
          "output_type": "display_data",
          "data": {
            "text/plain": [
              "<IPython.core.display.Javascript object>"
            ],
            "application/javascript": [
              "\n",
              "    async function download(id, filename, size) {\n",
              "      if (!google.colab.kernel.accessAllowed) {\n",
              "        return;\n",
              "      }\n",
              "      const div = document.createElement('div');\n",
              "      const label = document.createElement('label');\n",
              "      label.textContent = `Downloading \"${filename}\": `;\n",
              "      div.appendChild(label);\n",
              "      const progress = document.createElement('progress');\n",
              "      progress.max = size;\n",
              "      div.appendChild(progress);\n",
              "      document.body.appendChild(div);\n",
              "\n",
              "      const buffers = [];\n",
              "      let downloaded = 0;\n",
              "\n",
              "      const channel = await google.colab.kernel.comms.open(id);\n",
              "      // Send a message to notify the kernel that we're ready.\n",
              "      channel.send({})\n",
              "\n",
              "      for await (const message of channel.messages) {\n",
              "        // Send a message to notify the kernel that we're ready.\n",
              "        channel.send({})\n",
              "        if (message.buffers) {\n",
              "          for (const buffer of message.buffers) {\n",
              "            buffers.push(buffer);\n",
              "            downloaded += buffer.byteLength;\n",
              "            progress.value = downloaded;\n",
              "          }\n",
              "        }\n",
              "      }\n",
              "      const blob = new Blob(buffers, {type: 'application/binary'});\n",
              "      const a = document.createElement('a');\n",
              "      a.href = window.URL.createObjectURL(blob);\n",
              "      a.download = filename;\n",
              "      div.appendChild(a);\n",
              "      a.click();\n",
              "      div.remove();\n",
              "    }\n",
              "  "
            ]
          },
          "metadata": {}
        },
        {
          "output_type": "display_data",
          "data": {
            "text/plain": [
              "<IPython.core.display.Javascript object>"
            ],
            "application/javascript": [
              "download(\"download_cd54aef7-5682-4598-906c-fe63e01056d1\", \"HistoricalData.zip\", 18222)"
            ]
          },
          "metadata": {}
        }
      ],
      "source": [
        "#@title 3-Output\n",
        "!zip -r /content/HistoricalData.zip /content/HistoricalData\n",
        "from google.colab import files\n",
        "files.download('/content/HistoricalData.zip')\n"
      ]
    }
  ],
  "metadata": {
    "accelerator": "GPU",
    "colab": {
      "provenance": [],
      "include_colab_link": true
    },
    "gpuClass": "standard",
    "kernelspec": {
      "display_name": "Python 3 (ipykernel)",
      "language": "python",
      "name": "python3"
    },
    "language_info": {
      "codemirror_mode": {
        "name": "ipython",
        "version": 3
      },
      "file_extension": ".py",
      "mimetype": "text/x-python",
      "name": "python",
      "nbconvert_exporter": "python",
      "pygments_lexer": "ipython3",
      "version": "3.10.9"
    },
    "latex_envs": {
      "LaTeX_envs_menu_present": true,
      "autoclose": false,
      "autocomplete": true,
      "bibliofile": "biblio.bib",
      "cite_by": "apalike",
      "current_citInitial": 1,
      "eqLabelWithNumbers": true,
      "eqNumInitial": 1,
      "hotkeys": {
        "equation": "Ctrl-E",
        "itemize": "Ctrl-I"
      },
      "labels_anchors": false,
      "latex_user_defs": false,
      "report_style_numbering": false,
      "user_envs_cfg": false
    },
    "nbTranslate": {
      "displayLangs": [
        "*"
      ],
      "hotkey": "alt-t",
      "langInMainMenu": true,
      "sourceLang": "en",
      "targetLang": "fr",
      "useGoogleTranslate": true
    },
    "toc": {
      "base_numbering": 1,
      "nav_menu": {},
      "number_sections": true,
      "sideBar": true,
      "skip_h1_title": false,
      "title_cell": "Table of Contents",
      "title_sidebar": "Contents",
      "toc_cell": false,
      "toc_position": {},
      "toc_section_display": true,
      "toc_window_display": false
    },
    "varInspector": {
      "cols": {
        "lenName": 16,
        "lenType": 16,
        "lenVar": 40
      },
      "kernels_config": {
        "python": {
          "delete_cmd_postfix": "",
          "delete_cmd_prefix": "del ",
          "library": "var_list.py",
          "varRefreshCmd": "print(var_dic_list())"
        },
        "r": {
          "delete_cmd_postfix": ") ",
          "delete_cmd_prefix": "rm(",
          "library": "var_list.r",
          "varRefreshCmd": "cat(var_dic_list()) "
        }
      },
      "types_to_exclude": [
        "module",
        "function",
        "builtin_function_or_method",
        "instance",
        "_Feature"
      ],
      "window_display": false
    }
  },
  "nbformat": 4,
  "nbformat_minor": 0
}